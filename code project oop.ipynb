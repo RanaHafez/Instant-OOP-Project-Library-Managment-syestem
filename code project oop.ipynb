{
 "cells": [
  {
   "cell_type": "markdown",
   "id": "6198e66c",
   "metadata": {},
   "source": [
    "# Library Mangament System 📖🤓\n",
    "## an Objeact-Oriented Programming Project"
   ]
  },
  {
   "cell_type": "markdown",
   "id": "cd0138a9",
   "metadata": {},
   "source": [
    "##### import statements"
   ]
  },
  {
   "cell_type": "code",
   "execution_count": 1,
   "id": "7ecd4c8e",
   "metadata": {},
   "outputs": [],
   "source": [
    "import datetime\n",
    "import random\n",
    "import uuid"
   ]
  },
  {
   "cell_type": "code",
   "execution_count": 2,
   "id": "1fbebbe3",
   "metadata": {},
   "outputs": [],
   "source": [
    "class Library:\n",
    "\n",
    "    __books = []\n",
    "    __orders = []\n",
    "    index = 0\n",
    "\n",
    "    def add_book(self, name, auther):\n",
    "        self.index += 1\n",
    "        book = Book(id=self.index, name=name, auther=auther)\n",
    "        self.__books.append(book)\n",
    "        return True\n",
    "\n",
    "    def delete_book(self, name):\n",
    "        for book in self.__books:\n",
    "            if book.name == name:\n",
    "                print(f\"{book} is deleted\")\n",
    "                self.__books.remove(book)\n",
    "                book.delete()\n",
    "                return True\n",
    "        print(\"Book is Not Founded\")\n",
    "        return False\n",
    "\n",
    "    def display_books(self):\n",
    "        return self.__books\n",
    "\n",
    "    def display_available_book(self):\n",
    "        available_books = [book for book in self.__books if book.check_availability()]\n",
    "        for book in available_books:\n",
    "            print(book)\n",
    "\n",
    "    def search(self, book_name):\n",
    "        for book in self.__books:\n",
    "            if book.name == book_name:\n",
    "                return book\n",
    "\n",
    "    def add_order(self, new_order):\n",
    "        self.__orders.append(new_order)\n",
    "\n",
    "    def check_order_status(self):\n",
    "        order_id = input(\"You want to check the order status : ..\")\n",
    "        for order in self.__orders:\n",
    "            if order.id == order_id:\n",
    "                return f\"The Order status is {order.get_status()} and Due Date {order.due_date}\"\n",
    "        return \"No Order with Such Name\"\n",
    "\n",
    "    def search_order_by_id(self):\n",
    "        order_id = input(\"Please Enter order id: .. \")\n",
    "        for order in self.__orders:\n",
    "            if order.id == order_id:\n",
    "                return order\n",
    "\n",
    "    def rate_user(self, order):\n",
    "        # rate the user\n",
    "        ans = datetime.datetime.now() - order.due_date\n",
    "        if ans.days < 0:\n",
    "            print(\"You are late\")\n",
    "            order.borrower.set_rate(order.borrower.get_rate() + 2 * -2)\n",
    "        else:\n",
    "            print(\"You returned the book just in time\")\n",
    "            order.borrower.set_rate(order.borrower.get_rate() + 2 * 2)\n",
    "\n",
    "    def retrieve_book(self):\n",
    "        order = self.search_order_by_id()\n",
    "        if order:\n",
    "            # change the status of the book\n",
    "            order.set_status(\"Finished\")\n",
    "            # change the book availability\n",
    "            order.book.set_availability(True)\n",
    "            # remove order from the orders list\n",
    "            self.__orders.remove(order)\n",
    "            self.rate_user(order=order)\n",
    "            print(f\"Your points now is ... {order.borrower.get_rate()}\")\n",
    "            print(\"Nice!! Done!!\")\n",
    "            order.delete_order()\n",
    "        else:\n",
    "            print(\"No Order with such name\")\n",
    "\n",
    "    def display_orders(self):\n",
    "        print(self.__orders)"
   ]
  },
  {
   "cell_type": "code",
   "execution_count": 3,
   "id": "d1b3aede",
   "metadata": {},
   "outputs": [],
   "source": [
    "class Book:\n",
    "    def __init__(self, id, name, auther, is_available=True):\n",
    "        self.id = id\n",
    "        self.name = name\n",
    "        self.auther = auther\n",
    "        self.is_available = is_available\n",
    "\n",
    "    def __repr__(self):\n",
    "        return f\"BookName:{self.name}.Auther:{self.auther}\"\n",
    "\n",
    "    def set_availability(self, new_val):\n",
    "        self.is_available = new_val\n",
    "\n",
    "    def check_availability(self):\n",
    "        return self.is_available\n",
    "\n",
    "    def delete(self):\n",
    "        del self"
   ]
  },
  {
   "cell_type": "code",
   "execution_count": 4,
   "id": "06a91357",
   "metadata": {},
   "outputs": [],
   "source": [
    "class Reader(Library):\n",
    "    def __init__(self, name, rate=5):\n",
    "        self.id = uuid.uuid4()\n",
    "        self.name = name\n",
    "        self.rate = rate\n",
    "\n",
    "    def __repr__(self):\n",
    "        return f\"User {self.name}, {self.rate}\"\n",
    "\n",
    "    def set_rate(self, new_rate):\n",
    "        self.rate = new_rate\n",
    "\n",
    "    def get_rate(self):\n",
    "        return self.rate\n",
    "\n",
    "    def request_book(self, name):\n",
    "        book = self.search(name)\n",
    "        if book:\n",
    "            # There is a book with such name\n",
    "            # check availability\n",
    "            if book.check_availability():\n",
    "                # create a borrow order\n",
    "                b = BorrowOrder(book=book, reader=self)\n",
    "                # make book not available\n",
    "                book.set_availability(False)\n",
    "                # add the book to the orders\n",
    "                self.add_order(b)\n",
    "                print(f\"Here is the order Number memorize it,. Ok? {b.id}\")\n",
    "            else:\n",
    "                # Book is Already Borrowed\n",
    "                print(\"Book is Not Available\")\n",
    "        else:\n",
    "            print(\"No book with such name\")\n",
    "\n",
    "    def return_book(self):\n",
    "        self.retrieve_book()"
   ]
  },
  {
   "cell_type": "code",
   "execution_count": 5,
   "id": "e20d4473",
   "metadata": {},
   "outputs": [],
   "source": [
    "class BorrowOrder:\n",
    "    def __init__(self, book, reader):\n",
    "        self.id = book.name + '-' + reader.name + str(random.randint(1, 11))\n",
    "        self.book = book\n",
    "        self.borrower = reader\n",
    "        self.due_date = datetime.datetime.today() - datetime.timedelta(days=5)\n",
    "        self.status = \"Borrowed\"\n",
    "\n",
    "    def __repr__(self):\n",
    "        return f\"Order {self.book}, {self.borrower}, {self.due_date}, {self.status}\"\n",
    "\n",
    "    def set_status(self, new_status):\n",
    "        self.status = new_status\n",
    "\n",
    "    def get_status(self):\n",
    "        return self.status\n",
    "\n",
    "    def delete_order(self):\n",
    "        return self"
   ]
  },
  {
   "cell_type": "code",
   "execution_count": 6,
   "id": "19d8f815",
   "metadata": {},
   "outputs": [],
   "source": [
    "# First Create the Library\n",
    "lp = Library()"
   ]
  },
  {
   "cell_type": "code",
   "execution_count": 7,
   "id": "cd8e41e6",
   "metadata": {},
   "outputs": [
    {
     "data": {
      "text/plain": [
       "True"
      ]
     },
     "execution_count": 7,
     "metadata": {},
     "output_type": "execute_result"
    }
   ],
   "source": [
    "# add a number of books\n",
    "lp.add_book(\"Book1\", \"A1\")\n",
    "lp.add_book(\"Book2\", \"A1\")\n",
    "lp.add_book(\"Book3\", \"A1\")"
   ]
  },
  {
   "cell_type": "code",
   "execution_count": 8,
   "id": "d42f9f42",
   "metadata": {},
   "outputs": [],
   "source": [
    "# create a number of readers\n",
    "user1 = Reader(\"Rana\")\n",
    "user2 = Reader(\"Koko\")\n",
    "user3 = Reader(\"Salem\")"
   ]
  },
  {
   "cell_type": "code",
   "execution_count": 9,
   "id": "8988a1ea",
   "metadata": {},
   "outputs": [
    {
     "name": "stdout",
     "output_type": "stream",
     "text": [
      "[BookName:Book1.Auther:A1, BookName:Book2.Auther:A1, BookName:Book3.Auther:A1]\n"
     ]
    }
   ],
   "source": [
    "# search the books\n",
    "print(lp.display_books())"
   ]
  },
  {
   "cell_type": "markdown",
   "id": "596208ec",
   "metadata": {},
   "source": [
    "#### user1 searches for a book that is not in the library and user2 searched for a book that is in the library"
   ]
  },
  {
   "cell_type": "code",
   "execution_count": 10,
   "id": "c76aa9e9",
   "metadata": {},
   "outputs": [
    {
     "name": "stdout",
     "output_type": "stream",
     "text": [
      "No book with such name\n"
     ]
    }
   ],
   "source": [
    "# user1 wants to search for a book\n",
    "book = user1.search(\"Koko\")\n",
    "if book:\n",
    "    print(book)\n",
    "else:\n",
    "    print(\"No book with such name\")"
   ]
  },
  {
   "cell_type": "code",
   "execution_count": 11,
   "id": "def60aef",
   "metadata": {},
   "outputs": [
    {
     "name": "stdout",
     "output_type": "stream",
     "text": [
      "Here is The book you asked about BookName:Book3.Auther:A1\n"
     ]
    }
   ],
   "source": [
    "book = user2.search(\"Book3\")\n",
    "if book:\n",
    "    print(f\"Here is The book you asked about {book}\")\n",
    "else:\n",
    "    print(\"No book with such name\")"
   ]
  },
  {
   "cell_type": "markdown",
   "id": "969de61e",
   "metadata": {},
   "source": [
    "## Borrowing request\n",
    "### <li>user1 requests book3 First and borrow it</li>\n",
    "### <li>later user2 requests book3 but it is not available for borrowing</li>"
   ]
  },
  {
   "cell_type": "code",
   "execution_count": 12,
   "id": "1dca2fd4",
   "metadata": {},
   "outputs": [
    {
     "name": "stdout",
     "output_type": "stream",
     "text": [
      "Here is the order Number memorize it,. Ok? Book3-Koko3\n"
     ]
    }
   ],
   "source": [
    "# user2 decided to borrow the book\n",
    "user2.request_book(\"Book3\")"
   ]
  },
  {
   "cell_type": "code",
   "execution_count": 13,
   "id": "ca021acd",
   "metadata": {},
   "outputs": [
    {
     "name": "stdout",
     "output_type": "stream",
     "text": [
      "Book is Not Available\n"
     ]
    }
   ],
   "source": [
    "# user3 decided to borrow the same book\n",
    "user3.request_book(\"Book3\") # shows that the book is not available for borrowing"
   ]
  },
  {
   "cell_type": "markdown",
   "id": "5bf84b20",
   "metadata": {},
   "source": [
    "### Library checks for the order status"
   ]
  },
  {
   "cell_type": "code",
   "execution_count": 14,
   "id": "ee8f66a5",
   "metadata": {},
   "outputs": [
    {
     "name": "stdout",
     "output_type": "stream",
     "text": [
      "You want to check the order status : ..\n",
      "No Order with Such Name\n"
     ]
    }
   ],
   "source": [
    "print(lp.check_order_status())"
   ]
  },
  {
   "cell_type": "markdown",
   "id": "551812d2",
   "metadata": {},
   "source": [
    "### user1 => Returning the book !!!!!"
   ]
  },
  {
   "cell_type": "code",
   "execution_count": 15,
   "id": "2ae8279d",
   "metadata": {},
   "outputs": [
    {
     "name": "stdout",
     "output_type": "stream",
     "text": [
      "Please Enter order id: .. Book3-Koko3\n",
      "You returned the book just in time\n",
      "Your points now is ... 9\n",
      "Nice!! Done!!\n"
     ]
    }
   ],
   "source": [
    "# user2 decided to return the book\n",
    "user2.retrieve_book()"
   ]
  },
  {
   "cell_type": "markdown",
   "id": "9f74cf1f",
   "metadata": {},
   "source": [
    "### user3 now can request the book that was returned for borrowing"
   ]
  },
  {
   "cell_type": "code",
   "execution_count": 16,
   "id": "34ff766f",
   "metadata": {},
   "outputs": [
    {
     "name": "stdout",
     "output_type": "stream",
     "text": [
      "Here is the order Number memorize it,. Ok? Book3-Salem1\n"
     ]
    }
   ],
   "source": [
    "# user3 now can request the book\n",
    "user3.request_book(\"Book3\")"
   ]
  },
  {
   "cell_type": "markdown",
   "id": "622ccc02",
   "metadata": {},
   "source": [
    "### Each user has a point that is updated if they returned the book borrowed before the due date"
   ]
  },
  {
   "cell_type": "code",
   "execution_count": 17,
   "id": "89e5b965",
   "metadata": {},
   "outputs": [
    {
     "data": {
      "text/plain": [
       "5"
      ]
     },
     "execution_count": 17,
     "metadata": {},
     "output_type": "execute_result"
    }
   ],
   "source": [
    "user1.get_rate()"
   ]
  },
  {
   "cell_type": "code",
   "execution_count": 18,
   "id": "e33fb43d",
   "metadata": {},
   "outputs": [
    {
     "data": {
      "text/plain": [
       "9"
      ]
     },
     "execution_count": 18,
     "metadata": {},
     "output_type": "execute_result"
    }
   ],
   "source": [
    "user2.get_rate()"
   ]
  },
  {
   "cell_type": "code",
   "execution_count": 19,
   "id": "8aef0adc",
   "metadata": {},
   "outputs": [
    {
     "name": "stdout",
     "output_type": "stream",
     "text": [
      "Here is the order Number memorize it,. Ok? Book1-Rana10\n"
     ]
    }
   ],
   "source": [
    "user1.request_book(\"Book1\")"
   ]
  },
  {
   "cell_type": "markdown",
   "id": "287b52d4",
   "metadata": {},
   "source": [
    "### user1 Returned the book on time => points increased."
   ]
  },
  {
   "cell_type": "code",
   "execution_count": 20,
   "id": "b9e768e7",
   "metadata": {},
   "outputs": [
    {
     "name": "stdout",
     "output_type": "stream",
     "text": [
      "Please Enter order id: .. Book1-Rana10\n",
      "You returned the book just in time\n",
      "Your points now is ... 9\n",
      "Nice!! Done!!\n"
     ]
    }
   ],
   "source": [
    "user1.return_book()"
   ]
  },
  {
   "cell_type": "markdown",
   "id": "69879212",
   "metadata": {},
   "source": [
    "# Rana(2023)"
   ]
  }
 ],
 "metadata": {
  "kernelspec": {
   "display_name": "Python 3 (ipykernel)",
   "language": "python",
   "name": "python3"
  },
  "language_info": {
   "codemirror_mode": {
    "name": "ipython",
    "version": 3
   },
   "file_extension": ".py",
   "mimetype": "text/x-python",
   "name": "python",
   "nbconvert_exporter": "python",
   "pygments_lexer": "ipython3",
   "version": "3.10.4"
  }
 },
 "nbformat": 4,
 "nbformat_minor": 5
}
